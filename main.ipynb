{
 "cells": [
  {
   "cell_type": "code",
   "execution_count": 1,
   "metadata": {},
   "outputs": [],
   "source": [
    "from src.lib import *\n",
    "from src.transfomer import *"
   ]
  },
  {
   "attachments": {},
   "cell_type": "markdown",
   "metadata": {},
   "source": [
    "## Data Prepocessing"
   ]
  },
  {
   "cell_type": "code",
   "execution_count": 2,
   "metadata": {},
   "outputs": [],
   "source": [
    "with open(\"./data/Shakespeare.txt\",'r') as f:\n",
    "    text = f.read()"
   ]
  },
  {
   "cell_type": "code",
   "execution_count": 3,
   "metadata": {},
   "outputs": [],
   "source": [
    "chars = sorted(list(set(text)))"
   ]
  },
  {
   "cell_type": "code",
   "execution_count": 4,
   "metadata": {},
   "outputs": [],
   "source": [
    "vocab_size = len(chars)"
   ]
  },
  {
   "cell_type": "code",
   "execution_count": 5,
   "metadata": {},
   "outputs": [
    {
     "data": {
      "text/plain": [
       "65"
      ]
     },
     "execution_count": 5,
     "metadata": {},
     "output_type": "execute_result"
    }
   ],
   "source": [
    "vocab_size"
   ]
  },
  {
   "cell_type": "code",
   "execution_count": 6,
   "metadata": {},
   "outputs": [],
   "source": [
    "str_to_idx = {char:idx for idx,char in enumerate(chars)}\n",
    "idx_to_str = {idx:char for idx,char in enumerate(chars)}"
   ]
  },
  {
   "cell_type": "code",
   "execution_count": 7,
   "metadata": {},
   "outputs": [],
   "source": [
    "encode = lambda s :[str_to_idx[i] for i in s]\n",
    "decode = lambda l : \"\".join([idx_to_str[i] for i in l ])"
   ]
  },
  {
   "cell_type": "code",
   "execution_count": 8,
   "metadata": {},
   "outputs": [],
   "source": [
    "text_encoded = encode(text)\n",
    "text_encoded = torch.tensor(text_encoded)"
   ]
  },
  {
   "cell_type": "code",
   "execution_count": 9,
   "metadata": {},
   "outputs": [],
   "source": [
    "p = 0.9\n",
    "n = int(p * len(text_encoded))\n",
    "train_data = text_encoded[0:n]\n",
    "test_data = text_encoded[n:]"
   ]
  },
  {
   "cell_type": "code",
   "execution_count": 10,
   "metadata": {},
   "outputs": [
    {
     "data": {
      "text/plain": [
       "(torch.Size([1003854]), torch.Size([111540]))"
      ]
     },
     "execution_count": 10,
     "metadata": {},
     "output_type": "execute_result"
    }
   ],
   "source": [
    "train_data.shape,test_data.shape"
   ]
  },
  {
   "attachments": {},
   "cell_type": "markdown",
   "metadata": {},
   "source": [
    "## Embedding"
   ]
  },
  {
   "cell_type": "code",
   "execution_count": 11,
   "metadata": {},
   "outputs": [
    {
     "data": {
      "text/plain": [
       "tensor([[0.2991, 0.0000, 0.0000],\n",
       "        [0.1964, 0.7732, 0.0000],\n",
       "        [0.3072, 0.9999, 0.2349]])"
      ]
     },
     "execution_count": 11,
     "metadata": {},
     "output_type": "execute_result"
    }
   ],
   "source": [
    "B,T,C = 4,8,2\n",
    "torch.tril(torch.rand(3,3))"
   ]
  },
  {
   "cell_type": "code",
   "execution_count": 12,
   "metadata": {},
   "outputs": [
    {
     "data": {
      "text/plain": [
       "device(type='cuda')"
      ]
     },
     "execution_count": 12,
     "metadata": {},
     "output_type": "execute_result"
    }
   ],
   "source": [
    "device = torch.device('cuda' if torch.cuda.is_available() else 'cpu')\n",
    "device"
   ]
  },
  {
   "cell_type": "code",
   "execution_count": 13,
   "metadata": {},
   "outputs": [],
   "source": [
    "model = Transformer(\n",
    "    vocab_size=vocab_size,\n",
    "    embed_size=384,\n",
    "    heads=6,\n",
    "    num_layers=6,\n",
    "    max_len=1000,\n",
    "    device=device,\n",
    "    decode_vocab=decode,\n",
    "    dropout=0.2\n",
    ")"
   ]
  },
  {
   "cell_type": "code",
   "execution_count": 14,
   "metadata": {},
   "outputs": [
    {
     "name": "stdout",
     "output_type": "stream",
     "text": [
      "Iter: 0 Loss: 4.253781795501709\n",
      "Inference: \n",
      "Z WlWhmjEFe rz3hkQsq\n",
      "----------------------------------\n",
      "Iter: 1 Loss: 3.9486031532287598\n",
      "Inference: \n",
      " vrUY!erSe,.Ztn\n",
      "sNPn\n",
      "----------------------------------\n",
      "Iter: 2 Loss: 3.7396886348724365\n",
      "Inference: \n",
      "RqC'dne.eEUneUsyeney\n",
      "----------------------------------\n",
      "Iter: 3 Loss: 3.486492395401001\n",
      "Inference: \n",
      "tg A Yeto XunhF3Zv n\n",
      "----------------------------------\n",
      "Iter: 4 Loss: 3.440809965133667\n",
      "Inference: \n",
      "WtrfoKsX ttehsmeR;ln\n",
      "----------------------------------\n",
      "Iter: 5 Loss: 3.2542357444763184\n",
      "Inference: \n",
      "X  aRtgheKde thois ,\n",
      "----------------------------------\n",
      "Iter: 6 Loss: 3.3973586559295654\n",
      "Inference: \n",
      "U\n",
      "Urweo\n",
      "h;re\n",
      ": e   e\n",
      "----------------------------------\n",
      "Iter: 7 Loss: 3.283235549926758\n",
      "Inference: \n",
      "U&vioaebDieensdejk n\n",
      "----------------------------------\n",
      "Iter: 8 Loss: 3.261681079864502\n",
      "Inference: \n",
      "Tdu weKBdhui stbiu b\n",
      "----------------------------------\n",
      "Iter: 9 Loss: 3.455413341522217\n",
      "Inference: \n",
      "&btohlshad-jbadC;arn\n",
      "----------------------------------\n"
     ]
    }
   ],
   "source": [
    "model.fit(train_data,batch_size=8,block_size=16,n_iter=10,print_every=1)"
   ]
  },
  {
   "cell_type": "code",
   "execution_count": 15,
   "metadata": {},
   "outputs": [
    {
     "name": "stdout",
     "output_type": "stream",
     "text": [
      "\n",
      "mn dr.ah ynoodo, oirntnqZjaWoMAh ! lnahP-w,  ax aeoafspha? hjv s E \n",
      "tW TnoSdlv:auontrai\n",
      "dohapNaopCsWe !jKtweed$ai \n",
      "f,anh?hd,cino.etgZn\n",
      "w a  3abaoJPhlahnrh e  mhnr:i aroFy!qlw sn eP;l\n",
      ",dct Nv ahi yojigpaNen   e,lwg\n",
      ",ak c eKt yada :Sa Wo as gendaedre \n",
      "h tengh.e ttoTuTswn m oha'o r Rdg,ookaben yadtDyha p;iiiraos.ro heaRznha:de .ue m VAan aahbwto ?;uI hYsdrnonidt ylsi mB h3s eFtQ  oin\n",
      "sMl\n",
      "r \n",
      "taetyr3rMS  g dTtF  \n",
      "XS ayoxhojeoXQwEiyodat\n",
      "adtlktnr.ka o dovo  nehl oginnihPeLH jEiHFn broV  ebgE3,r :nnaeo \n"
     ]
    }
   ],
   "source": [
    "context = torch.zeros((1, 1), dtype=torch.long, device=device)\n",
    "print(decode(model.inference(context, max_token=500)[0].tolist()))"
   ]
  },
  {
   "cell_type": "code",
   "execution_count": 16,
   "metadata": {},
   "outputs": [
    {
     "data": {
      "image/png": "[encoded data removed]",
      "text/plain": [
       "<Figure size 864x288 with 1 Axes>"
      ]
     },
     "metadata": {},
     "output_type": "display_data"
    }
   ],
   "source": [
    "model.plot()"
   ]
  },
  {
   "cell_type": "code",
   "execution_count": null,
   "metadata": {},
   "outputs": [],
   "source": []
  }
 ],
 "metadata": {
  "kernelspec": {
   "display_name": "pytorchenv",
   "language": "python",
   "name": "python3"
  },
  "language_info": {
   "codemirror_mode": {
    "name": "ipython",
    "version": 3
   },
   "file_extension": ".py",
   "mimetype": "text/x-python",
   "name": "python",
   "nbconvert_exporter": "python",
   "pygments_lexer": "ipython3",
   "version": "3.9.16"
  },
  "orig_nbformat": 4
 },
 "nbformat": 4,
 "nbformat_minor": 2
}
